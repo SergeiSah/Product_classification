{
 "cells": [
  {
   "cell_type": "markdown",
   "metadata": {},
   "source": [
    "# Description\n",
    "\n",
    "Measurements of time that model takes for training and prediction. Also measurements of time that is consumed for cleaning datasets."
   ]
  },
  {
   "cell_type": "code",
   "execution_count": null,
   "metadata": {
    "_cell_guid": "b1076dfc-b9ad-4769-8c92-a6c4dae69d19",
    "_uuid": "8f2839f25d086af736a60e9eeb907d3b93b6e0e5",
    "tags": []
   },
   "outputs": [],
   "source": [
    "%%capture\n",
    "!pip install git+https://github.com/SergeiSah/Product_classification.git"
   ]
  },
  {
   "cell_type": "code",
   "execution_count": 6,
   "metadata": {
    "execution": {
     "iopub.execute_input": "2024-05-23T21:32:05.005609Z",
     "iopub.status.busy": "2024-05-23T21:32:05.005240Z",
     "iopub.status.idle": "2024-05-23T21:32:05.012862Z",
     "shell.execute_reply": "2024-05-23T21:32:05.010683Z",
     "shell.execute_reply.started": "2024-05-23T21:32:05.005572Z"
    }
   },
   "outputs": [],
   "source": [
    "import gpustat\n",
    "import torch\n",
    "import pandas as pd\n",
    "from product_classificator import Classificator, load\n",
    "from product_classificator.training import *\n",
    "from tqdm.notebook import tqdm\n",
    "import matplotlib.pyplot as plt"
   ]
  },
  {
   "cell_type": "code",
   "execution_count": 7,
   "metadata": {
    "execution": {
     "iopub.execute_input": "2024-05-23T21:32:05.015158Z",
     "iopub.status.busy": "2024-05-23T21:32:05.014817Z",
     "iopub.status.idle": "2024-05-23T21:32:07.370778Z",
     "shell.execute_reply": "2024-05-23T21:32:07.369828Z",
     "shell.execute_reply.started": "2024-05-23T21:32:05.015126Z"
    }
   },
   "outputs": [],
   "source": [
    "def plot_log_info(log):\n",
    "    gpu_stats = gpustat.GPUStatCollection.new_query()\n",
    "    \n",
    "    for gpu in gpu_stats.gpus:\n",
    "        print(f\"GPU {gpu.index}: {gpu.name}\")\n",
    "    \n",
    "    desc = log.describe().drop('count')\n",
    "    desc.loc['sum'] = desc.sum()\n",
    "    display(desc.iloc[:, :-2].style.background_gradient(axis=1))\n",
    "    display(desc.iloc[:, -2:])\n",
    "    \n",
    "    log[log < log.quantile(0.99)].iloc[:, :-2].plot(kind='hist', bins=100)\n",
    "    plt.title('Time measurements')\n",
    "    plt.xlabel('Time (sec.)');"
   ]
  },
  {
   "cell_type": "code",
   "execution_count": 8,
   "metadata": {
    "execution": {
     "iopub.execute_input": "2024-05-23T21:32:07.372269Z",
     "iopub.status.busy": "2024-05-23T21:32:07.371894Z",
     "iopub.status.idle": "2024-05-23T21:32:10.901315Z",
     "shell.execute_reply": "2024-05-23T21:32:10.900361Z",
     "shell.execute_reply.started": "2024-05-23T21:32:07.372232Z"
    }
   },
   "outputs": [
    {
     "name": "stderr",
     "output_type": "stream",
     "text": [
      "/opt/conda/lib/python3.10/site-packages/huggingface_hub/file_download.py:669: FutureWarning: 'cached_download' is the legacy way to download files from the HF hub, please consider upgrading to 'hf_hub_download'\n",
      "  warnings.warn(\n",
      "/opt/conda/lib/python3.10/site-packages/sklearn/base.py:376: InconsistentVersionWarning: Trying to unpickle estimator PCA from version 1.4.0 when using version 1.5.0. This might lead to breaking code or invalid results. Use at your own risk. For more info please refer to:\n",
      "https://scikit-learn.org/stable/model_persistence.html#security-maintainability-limitations\n",
      "  warnings.warn(\n"
     ]
    }
   ],
   "source": [
    "test = pd.read_parquet(\n",
    "    '../input/wbtech-horizontal-ml-texts/wb_school_test.parquet'\n",
    ").dropna(subset=['description'])\n",
    "\n",
    "images = test.nm.apply(lambda x: str(x) + '.jpg').values\n",
    "texts = test.description.values\n",
    "\n",
    "device = 'cuda' if torch.cuda.is_available() else 'cpu'\n",
    "load('ruclip-vit-base-patch16-384')\n",
    "clf = Classificator(device=device)"
   ]
  },
  {
   "cell_type": "markdown",
   "metadata": {},
   "source": [
    "# Text preprocessing\n",
    "\n",
    "Preprocessing includes:\n",
    "- loading of the train and test .parquet files\n",
    "- cleaning datasets from records with empty description\n",
    "- extraction of characteristics in train dataset\n",
    "- cleanening: removing digits, punctuations, stopwords (except 'не' and 'для'), convertation to lower case"
   ]
  },
  {
   "cell_type": "code",
   "execution_count": 6,
   "metadata": {
    "execution": {
     "iopub.execute_input": "2024-05-23T16:58:30.193497Z",
     "iopub.status.busy": "2024-05-23T16:58:30.193063Z",
     "iopub.status.idle": "2024-05-23T17:33:03.612074Z",
     "shell.execute_reply": "2024-05-23T17:33:03.611150Z",
     "shell.execute_reply.started": "2024-05-23T16:58:30.193465Z"
    }
   },
   "outputs": [
    {
     "name": "stderr",
     "output_type": "stream",
     "text": [
      "Iterations:   0%|          | 0/4 [00:00<?, ?it/s]"
     ]
    },
    {
     "data": {
      "application/vnd.jupyter.widget-view+json": {
       "model_id": "5a38e53a56674c1d8773d1d28027ddf1",
       "version_major": 2,
       "version_minor": 0
      },
      "text/plain": [
       "  0%|          | 0/98660 [00:00<?, ?it/s]"
      ]
     },
     "metadata": {},
     "output_type": "display_data"
    },
    {
     "data": {
      "application/vnd.jupyter.widget-view+json": {
       "model_id": "64277f1fc58344dea6b868200afe355d",
       "version_major": 2,
       "version_minor": 0
      },
      "text/plain": [
       "  0%|          | 0/98660 [00:00<?, ?it/s]"
      ]
     },
     "metadata": {},
     "output_type": "display_data"
    },
    {
     "data": {
      "application/vnd.jupyter.widget-view+json": {
       "model_id": "465d990fb9884b979c4b8532d652b441",
       "version_major": 2,
       "version_minor": 0
      },
      "text/plain": [
       "  0%|          | 0/29653 [00:00<?, ?it/s]"
      ]
     },
     "metadata": {},
     "output_type": "display_data"
    },
    {
     "name": "stderr",
     "output_type": "stream",
     "text": [
      "Iterations:  25%|██▌       | 1/4 [08:40<26:00, 520.29s/it]"
     ]
    },
    {
     "data": {
      "application/vnd.jupyter.widget-view+json": {
       "model_id": "7fa4c3d552254bd99f7a4006ce80fe7c",
       "version_major": 2,
       "version_minor": 0
      },
      "text/plain": [
       "  0%|          | 0/98660 [00:00<?, ?it/s]"
      ]
     },
     "metadata": {},
     "output_type": "display_data"
    },
    {
     "data": {
      "application/vnd.jupyter.widget-view+json": {
       "model_id": "525d3662dc9e41abbbde1273d4fc1688",
       "version_major": 2,
       "version_minor": 0
      },
      "text/plain": [
       "  0%|          | 0/98660 [00:00<?, ?it/s]"
      ]
     },
     "metadata": {},
     "output_type": "display_data"
    },
    {
     "data": {
      "application/vnd.jupyter.widget-view+json": {
       "model_id": "5fe50361b7b44b698d32c4affd0222ae",
       "version_major": 2,
       "version_minor": 0
      },
      "text/plain": [
       "  0%|          | 0/29653 [00:00<?, ?it/s]"
      ]
     },
     "metadata": {},
     "output_type": "display_data"
    },
    {
     "name": "stderr",
     "output_type": "stream",
     "text": [
      "Iterations:  50%|█████     | 2/4 [17:15<17:14, 517.28s/it]"
     ]
    },
    {
     "data": {
      "application/vnd.jupyter.widget-view+json": {
       "model_id": "e0ed7a26ccf14a8b8cc10c4fc1b8aeb0",
       "version_major": 2,
       "version_minor": 0
      },
      "text/plain": [
       "  0%|          | 0/98660 [00:00<?, ?it/s]"
      ]
     },
     "metadata": {},
     "output_type": "display_data"
    },
    {
     "data": {
      "application/vnd.jupyter.widget-view+json": {
       "model_id": "27f8dc4ea3654706ae64bf13f0ac938d",
       "version_major": 2,
       "version_minor": 0
      },
      "text/plain": [
       "  0%|          | 0/98660 [00:00<?, ?it/s]"
      ]
     },
     "metadata": {},
     "output_type": "display_data"
    },
    {
     "data": {
      "application/vnd.jupyter.widget-view+json": {
       "model_id": "ccb3507ae413465085abcfda278f4f7c",
       "version_major": 2,
       "version_minor": 0
      },
      "text/plain": [
       "  0%|          | 0/29653 [00:00<?, ?it/s]"
      ]
     },
     "metadata": {},
     "output_type": "display_data"
    },
    {
     "name": "stderr",
     "output_type": "stream",
     "text": [
      "Iterations:  75%|███████▌  | 3/4 [26:01<08:41, 521.30s/it]"
     ]
    },
    {
     "data": {
      "application/vnd.jupyter.widget-view+json": {
       "model_id": "53858bde8fae4afbb580b755589236b6",
       "version_major": 2,
       "version_minor": 0
      },
      "text/plain": [
       "  0%|          | 0/98660 [00:00<?, ?it/s]"
      ]
     },
     "metadata": {},
     "output_type": "display_data"
    },
    {
     "data": {
      "application/vnd.jupyter.widget-view+json": {
       "model_id": "c406552f76e64e4f8763c4076a6677ca",
       "version_major": 2,
       "version_minor": 0
      },
      "text/plain": [
       "  0%|          | 0/98660 [00:00<?, ?it/s]"
      ]
     },
     "metadata": {},
     "output_type": "display_data"
    },
    {
     "data": {
      "application/vnd.jupyter.widget-view+json": {
       "model_id": "5341032b33db446bb515b31d5d33eaa1",
       "version_major": 2,
       "version_minor": 0
      },
      "text/plain": [
       "  0%|          | 0/29653 [00:00<?, ?it/s]"
      ]
     },
     "metadata": {},
     "output_type": "display_data"
    },
    {
     "name": "stderr",
     "output_type": "stream",
     "text": [
      "Iterations: 100%|██████████| 4/4 [34:33<00:00, 518.34s/it]"
     ]
    },
    {
     "name": "stdout",
     "output_type": "stream",
     "text": [
      "CPU times: user 34min 24s, sys: 23.6 s, total: 34min 47s\n",
      "Wall time: 34min 33s\n"
     ]
    },
    {
     "name": "stderr",
     "output_type": "stream",
     "text": [
      "\n"
     ]
    }
   ],
   "source": [
    "%%time\n",
    "log_preprocessing = test_preprocessing_time(\n",
    "    '../input/wbtech-horizontal-ml-texts/',\n",
    "    iterations_num=4\n",
    ")"
   ]
  },
  {
   "cell_type": "code",
   "execution_count": 7,
   "metadata": {
    "execution": {
     "iopub.execute_input": "2024-05-23T17:33:05.121506Z",
     "iopub.status.busy": "2024-05-23T17:33:05.121201Z",
     "iopub.status.idle": "2024-05-23T17:33:05.151665Z",
     "shell.execute_reply": "2024-05-23T17:33:05.150720Z",
     "shell.execute_reply.started": "2024-05-23T17:33:05.121480Z"
    }
   },
   "outputs": [
    {
     "data": {
      "text/html": [
       "<div>\n",
       "<style scoped>\n",
       "    .dataframe tbody tr th:only-of-type {\n",
       "        vertical-align: middle;\n",
       "    }\n",
       "\n",
       "    .dataframe tbody tr th {\n",
       "        vertical-align: top;\n",
       "    }\n",
       "\n",
       "    .dataframe thead th {\n",
       "        text-align: right;\n",
       "    }\n",
       "</style>\n",
       "<table border=\"1\" class=\"dataframe\">\n",
       "  <thead>\n",
       "    <tr style=\"text-align: right;\">\n",
       "      <th></th>\n",
       "      <th>loading_dfs</th>\n",
       "      <th>cleaning_dfs</th>\n",
       "      <th>processing_chars</th>\n",
       "      <th>cleaning_train_desc</th>\n",
       "      <th>cleaning_test_desc</th>\n",
       "    </tr>\n",
       "  </thead>\n",
       "  <tbody>\n",
       "    <tr>\n",
       "      <th>count</th>\n",
       "      <td>4.000000</td>\n",
       "      <td>4.000000</td>\n",
       "      <td>4.000000</td>\n",
       "      <td>4.000000</td>\n",
       "      <td>4.000000</td>\n",
       "    </tr>\n",
       "    <tr>\n",
       "      <th>mean</th>\n",
       "      <td>3.184043</td>\n",
       "      <td>5.297181</td>\n",
       "      <td>71.676512</td>\n",
       "      <td>337.564626</td>\n",
       "      <td>100.606686</td>\n",
       "    </tr>\n",
       "    <tr>\n",
       "      <th>std</th>\n",
       "      <td>0.907126</td>\n",
       "      <td>0.335929</td>\n",
       "      <td>1.756650</td>\n",
       "      <td>4.515859</td>\n",
       "      <td>1.147970</td>\n",
       "    </tr>\n",
       "    <tr>\n",
       "      <th>min</th>\n",
       "      <td>2.593937</td>\n",
       "      <td>4.915953</td>\n",
       "      <td>70.693718</td>\n",
       "      <td>333.059097</td>\n",
       "      <td>99.665226</td>\n",
       "    </tr>\n",
       "    <tr>\n",
       "      <th>25%</th>\n",
       "      <td>2.744851</td>\n",
       "      <td>5.134179</td>\n",
       "      <td>70.802037</td>\n",
       "      <td>334.168590</td>\n",
       "      <td>99.866168</td>\n",
       "    </tr>\n",
       "    <tr>\n",
       "      <th>50%</th>\n",
       "      <td>2.802785</td>\n",
       "      <td>5.273804</td>\n",
       "      <td>70.851630</td>\n",
       "      <td>337.286604</td>\n",
       "      <td>100.269100</td>\n",
       "    </tr>\n",
       "    <tr>\n",
       "      <th>75%</th>\n",
       "      <td>3.241977</td>\n",
       "      <td>5.436806</td>\n",
       "      <td>71.726105</td>\n",
       "      <td>340.682640</td>\n",
       "      <td>101.009618</td>\n",
       "    </tr>\n",
       "    <tr>\n",
       "      <th>max</th>\n",
       "      <td>4.536662</td>\n",
       "      <td>5.725164</td>\n",
       "      <td>74.309068</td>\n",
       "      <td>342.626200</td>\n",
       "      <td>102.223319</td>\n",
       "    </tr>\n",
       "  </tbody>\n",
       "</table>\n",
       "</div>"
      ],
      "text/plain": [
       "       loading_dfs  cleaning_dfs  processing_chars  cleaning_train_desc  \\\n",
       "count     4.000000      4.000000          4.000000             4.000000   \n",
       "mean      3.184043      5.297181         71.676512           337.564626   \n",
       "std       0.907126      0.335929          1.756650             4.515859   \n",
       "min       2.593937      4.915953         70.693718           333.059097   \n",
       "25%       2.744851      5.134179         70.802037           334.168590   \n",
       "50%       2.802785      5.273804         70.851630           337.286604   \n",
       "75%       3.241977      5.436806         71.726105           340.682640   \n",
       "max       4.536662      5.725164         74.309068           342.626200   \n",
       "\n",
       "       cleaning_test_desc  \n",
       "count            4.000000  \n",
       "mean           100.606686  \n",
       "std              1.147970  \n",
       "min             99.665226  \n",
       "25%             99.866168  \n",
       "50%            100.269100  \n",
       "75%            101.009618  \n",
       "max            102.223319  "
      ]
     },
     "execution_count": 7,
     "metadata": {},
     "output_type": "execute_result"
    }
   ],
   "source": [
    "log_preprocessing.describe()"
   ]
  },
  {
   "cell_type": "markdown",
   "metadata": {},
   "source": [
    "# Training\n",
    "\n",
    "Only on test dataset."
   ]
  },
  {
   "cell_type": "code",
   "execution_count": 6,
   "metadata": {
    "execution": {
     "iopub.execute_input": "2024-05-23T19:44:20.171572Z",
     "iopub.status.busy": "2024-05-23T19:44:20.171273Z",
     "iopub.status.idle": "2024-05-23T19:44:20.179142Z",
     "shell.execute_reply": "2024-05-23T19:44:20.178092Z",
     "shell.execute_reply.started": "2024-05-23T19:44:20.171547Z"
    }
   },
   "outputs": [],
   "source": [
    "params = {\n",
    "    'clf': clf,\n",
    "    'image_names': images,\n",
    "    'texts': texts,\n",
    "    'characteristics': ['category', 'sub_category', 'isadult'],\n",
    "    'batch_size': 1,\n",
    "    'path_to_images': '../input/wbtech-horizontal-ml-images/',\n",
    "    'optimizer': torch.optim.Adam(\n",
    "        clf.clip_predictor.clip_model.parameters(), \n",
    "        lr=5e-5, eps=1e-6, weight_decay=0.2),\n",
    "    'loss_img': torch.nn.CrossEntropyLoss(),\n",
    "    'loss_txt': torch.nn.CrossEntropyLoss(),\n",
    "    'warming_up_batches_num': 5\n",
    "}"
   ]
  },
  {
   "cell_type": "code",
   "execution_count": 7,
   "metadata": {
    "execution": {
     "iopub.execute_input": "2024-05-23T18:30:03.263027Z",
     "iopub.status.busy": "2024-05-23T18:30:03.262663Z",
     "iopub.status.idle": "2024-05-23T18:30:05.544130Z",
     "shell.execute_reply": "2024-05-23T18:30:05.543243Z",
     "shell.execute_reply.started": "2024-05-23T18:30:03.262992Z"
    }
   },
   "outputs": [
    {
     "data": {
      "text/plain": [
       "(29928, 8)"
      ]
     },
     "execution_count": 7,
     "metadata": {},
     "output_type": "execute_result"
    }
   ],
   "source": [
    "test.shape"
   ]
  },
  {
   "cell_type": "markdown",
   "metadata": {},
   "source": [
    "## One sample"
   ]
  },
  {
   "cell_type": "code",
   "execution_count": 8,
   "metadata": {
    "execution": {
     "iopub.execute_input": "2024-05-23T18:30:05.546274Z",
     "iopub.status.busy": "2024-05-23T18:30:05.545650Z",
     "iopub.status.idle": "2024-05-23T19:04:41.871831Z",
     "shell.execute_reply": "2024-05-23T19:04:41.870888Z",
     "shell.execute_reply.started": "2024-05-23T18:30:05.546239Z"
    }
   },
   "outputs": [
    {
     "name": "stderr",
     "output_type": "stream",
     "text": [
      "Batches: 100%|██████████| 29928/29928 [34:34<00:00, 14.43it/s]"
     ]
    },
    {
     "name": "stdout",
     "output_type": "stream",
     "text": [
      "CPU times: user 36min 47s, sys: 16.3 s, total: 37min 4s\n",
      "Wall time: 34min 36s\n"
     ]
    },
    {
     "name": "stderr",
     "output_type": "stream",
     "text": [
      "\n"
     ]
    }
   ],
   "source": [
    "%%time\n",
    "log_training_smpl = test_ruclip_training_time(**params)"
   ]
  },
  {
   "cell_type": "code",
   "execution_count": 16,
   "metadata": {
    "execution": {
     "iopub.execute_input": "2024-05-23T19:11:15.028378Z",
     "iopub.status.busy": "2024-05-23T19:11:15.027619Z",
     "iopub.status.idle": "2024-05-23T19:11:17.882117Z",
     "shell.execute_reply": "2024-05-23T19:11:17.881132Z",
     "shell.execute_reply.started": "2024-05-23T19:11:15.028344Z"
    }
   },
   "outputs": [
    {
     "name": "stdout",
     "output_type": "stream",
     "text": [
      "GPU 0: Tesla P100-PCIE-16GB\n"
     ]
    },
    {
     "data": {
      "text/html": [
       "<style type=\"text/css\">\n",
       "#T_ddc97_row0_col0 {\n",
       "  background-color: #045b8e;\n",
       "  color: #f1f1f1;\n",
       "}\n",
       "#T_ddc97_row0_col1, #T_ddc97_row5_col1 {\n",
       "  background-color: #91b5d6;\n",
       "  color: #000000;\n",
       "}\n",
       "#T_ddc97_row0_col2, #T_ddc97_row0_col5, #T_ddc97_row3_col5, #T_ddc97_row4_col2, #T_ddc97_row4_col5, #T_ddc97_row5_col5, #T_ddc97_row7_col2 {\n",
       "  background-color: #fdf5fa;\n",
       "  color: #000000;\n",
       "}\n",
       "#T_ddc97_row0_col3, #T_ddc97_row5_col3 {\n",
       "  background-color: #b8c6e0;\n",
       "  color: #000000;\n",
       "}\n",
       "#T_ddc97_row0_col4, #T_ddc97_row1_col0, #T_ddc97_row2_col4, #T_ddc97_row3_col4, #T_ddc97_row4_col4, #T_ddc97_row5_col4, #T_ddc97_row6_col6, #T_ddc97_row7_col0 {\n",
       "  background-color: #023858;\n",
       "  color: #f1f1f1;\n",
       "}\n",
       "#T_ddc97_row0_col6, #T_ddc97_row1_col3, #T_ddc97_row1_col7, #T_ddc97_row5_col6 {\n",
       "  background-color: #eae6f1;\n",
       "  color: #000000;\n",
       "}\n",
       "#T_ddc97_row0_col7, #T_ddc97_row3_col7, #T_ddc97_row4_col7, #T_ddc97_row5_col7 {\n",
       "  background-color: #f8f1f8;\n",
       "  color: #000000;\n",
       "}\n",
       "#T_ddc97_row0_col8, #T_ddc97_row1_col8, #T_ddc97_row2_col8, #T_ddc97_row3_col8, #T_ddc97_row4_col8, #T_ddc97_row5_col8, #T_ddc97_row6_col8, #T_ddc97_row7_col8 {\n",
       "  background-color: #fff7fb;\n",
       "  color: #000000;\n",
       "}\n",
       "#T_ddc97_row1_col1 {\n",
       "  background-color: #e7e3f0;\n",
       "  color: #000000;\n",
       "}\n",
       "#T_ddc97_row1_col2 {\n",
       "  background-color: #faf2f8;\n",
       "  color: #000000;\n",
       "}\n",
       "#T_ddc97_row1_col4, #T_ddc97_row3_col6, #T_ddc97_row4_col6 {\n",
       "  background-color: #ebe6f2;\n",
       "  color: #000000;\n",
       "}\n",
       "#T_ddc97_row1_col5 {\n",
       "  background-color: #ede7f2;\n",
       "  color: #000000;\n",
       "}\n",
       "#T_ddc97_row1_col6, #T_ddc97_row3_col3 {\n",
       "  background-color: #bcc7e1;\n",
       "  color: #000000;\n",
       "}\n",
       "#T_ddc97_row2_col0 {\n",
       "  background-color: #2f8bbe;\n",
       "  color: #f1f1f1;\n",
       "}\n",
       "#T_ddc97_row2_col1 {\n",
       "  background-color: #88b1d4;\n",
       "  color: #000000;\n",
       "}\n",
       "#T_ddc97_row2_col2, #T_ddc97_row6_col2 {\n",
       "  background-color: #fef6fb;\n",
       "  color: #000000;\n",
       "}\n",
       "#T_ddc97_row2_col3 {\n",
       "  background-color: #60a1ca;\n",
       "  color: #f1f1f1;\n",
       "}\n",
       "#T_ddc97_row2_col5 {\n",
       "  background-color: #fbf4f9;\n",
       "  color: #000000;\n",
       "}\n",
       "#T_ddc97_row2_col6 {\n",
       "  background-color: #d6d6e9;\n",
       "  color: #000000;\n",
       "}\n",
       "#T_ddc97_row2_col7, #T_ddc97_row6_col3 {\n",
       "  background-color: #f4edf6;\n",
       "  color: #000000;\n",
       "}\n",
       "#T_ddc97_row3_col0 {\n",
       "  background-color: #056ead;\n",
       "  color: #f1f1f1;\n",
       "}\n",
       "#T_ddc97_row3_col1, #T_ddc97_row6_col5 {\n",
       "  background-color: #96b6d7;\n",
       "  color: #000000;\n",
       "}\n",
       "#T_ddc97_row3_col2 {\n",
       "  background-color: #fef6fa;\n",
       "  color: #000000;\n",
       "}\n",
       "#T_ddc97_row4_col0 {\n",
       "  background-color: #04649d;\n",
       "  color: #f1f1f1;\n",
       "}\n",
       "#T_ddc97_row4_col1 {\n",
       "  background-color: #94b6d7;\n",
       "  color: #000000;\n",
       "}\n",
       "#T_ddc97_row4_col3 {\n",
       "  background-color: #bbc7e0;\n",
       "  color: #000000;\n",
       "}\n",
       "#T_ddc97_row5_col0 {\n",
       "  background-color: #034a74;\n",
       "  color: #f1f1f1;\n",
       "}\n",
       "#T_ddc97_row5_col2 {\n",
       "  background-color: #fcf4fa;\n",
       "  color: #000000;\n",
       "}\n",
       "#T_ddc97_row6_col0 {\n",
       "  background-color: #1b7eb7;\n",
       "  color: #f1f1f1;\n",
       "}\n",
       "#T_ddc97_row6_col1 {\n",
       "  background-color: #efe9f3;\n",
       "  color: #000000;\n",
       "}\n",
       "#T_ddc97_row6_col4 {\n",
       "  background-color: #eee9f3;\n",
       "  color: #000000;\n",
       "}\n",
       "#T_ddc97_row6_col7 {\n",
       "  background-color: #89b1d4;\n",
       "  color: #000000;\n",
       "}\n",
       "#T_ddc97_row7_col1 {\n",
       "  background-color: #c6cce3;\n",
       "  color: #000000;\n",
       "}\n",
       "#T_ddc97_row7_col3 {\n",
       "  background-color: #d8d7e9;\n",
       "  color: #000000;\n",
       "}\n",
       "#T_ddc97_row7_col4 {\n",
       "  background-color: #69a5cc;\n",
       "  color: #f1f1f1;\n",
       "}\n",
       "#T_ddc97_row7_col5 {\n",
       "  background-color: #9fbad9;\n",
       "  color: #000000;\n",
       "}\n",
       "#T_ddc97_row7_col6 {\n",
       "  background-color: #023a5b;\n",
       "  color: #f1f1f1;\n",
       "}\n",
       "#T_ddc97_row7_col7 {\n",
       "  background-color: #8eb3d5;\n",
       "  color: #000000;\n",
       "}\n",
       "</style>\n",
       "<table id=\"T_ddc97\">\n",
       "  <thead>\n",
       "    <tr>\n",
       "      <th class=\"blank level0\" >&nbsp;</th>\n",
       "      <th id=\"T_ddc97_level0_col0\" class=\"col_heading level0 col0\" >loading_images</th>\n",
       "      <th id=\"T_ddc97_level0_col1\" class=\"col_heading level0 col1\" >image_processing</th>\n",
       "      <th id=\"T_ddc97_level0_col2\" class=\"col_heading level0 col2\" >text_processing</th>\n",
       "      <th id=\"T_ddc97_level0_col3\" class=\"col_heading level0 col3\" >calc_image_latents</th>\n",
       "      <th id=\"T_ddc97_level0_col4\" class=\"col_heading level0 col4\" >calc_text_latents</th>\n",
       "      <th id=\"T_ddc97_level0_col5\" class=\"col_heading level0 col5\" >loss_calc</th>\n",
       "      <th id=\"T_ddc97_level0_col6\" class=\"col_heading level0 col6\" >loss_backprop</th>\n",
       "      <th id=\"T_ddc97_level0_col7\" class=\"col_heading level0 col7\" >optimizer_step</th>\n",
       "      <th id=\"T_ddc97_level0_col8\" class=\"col_heading level0 col8\" >saving_embeddings</th>\n",
       "    </tr>\n",
       "  </thead>\n",
       "  <tbody>\n",
       "    <tr>\n",
       "      <th id=\"T_ddc97_level0_row0\" class=\"row_heading level0 row0\" >mean</th>\n",
       "      <td id=\"T_ddc97_row0_col0\" class=\"data row0 col0\" >0.018595</td>\n",
       "      <td id=\"T_ddc97_row0_col1\" class=\"data row0 col1\" >0.009206</td>\n",
       "      <td id=\"T_ddc97_row0_col2\" class=\"data row0 col2\" >0.000505</td>\n",
       "      <td id=\"T_ddc97_row0_col3\" class=\"data row0 col3\" >0.006999</td>\n",
       "      <td id=\"T_ddc97_row0_col4\" class=\"data row0 col4\" >0.021345</td>\n",
       "      <td id=\"T_ddc97_row0_col5\" class=\"data row0 col5\" >0.000511</td>\n",
       "      <td id=\"T_ddc97_row0_col6\" class=\"data row0 col6\" >0.003039</td>\n",
       "      <td id=\"T_ddc97_row0_col7\" class=\"data row0 col7\" >0.001121</td>\n",
       "      <td id=\"T_ddc97_row0_col8\" class=\"data row0 col8\" >0.000164</td>\n",
       "    </tr>\n",
       "    <tr>\n",
       "      <th id=\"T_ddc97_level0_row1\" class=\"row_heading level0 row1\" >std</th>\n",
       "      <td id=\"T_ddc97_row1_col0\" class=\"data row1 col0\" >0.003986</td>\n",
       "      <td id=\"T_ddc97_row1_col1\" class=\"data row1 col1\" >0.000613</td>\n",
       "      <td id=\"T_ddc97_row1_col2\" class=\"data row1 col2\" >0.000172</td>\n",
       "      <td id=\"T_ddc97_row1_col3\" class=\"data row1 col3\" >0.000553</td>\n",
       "      <td id=\"T_ddc97_row1_col4\" class=\"data row1 col4\" >0.000532</td>\n",
       "      <td id=\"T_ddc97_row1_col5\" class=\"data row1 col5\" >0.000513</td>\n",
       "      <td id=\"T_ddc97_row1_col6\" class=\"data row1 col6\" >0.001252</td>\n",
       "      <td id=\"T_ddc97_row1_col7\" class=\"data row1 col7\" >0.000556</td>\n",
       "      <td id=\"T_ddc97_row1_col8\" class=\"data row1 col8\" >0.000017</td>\n",
       "    </tr>\n",
       "    <tr>\n",
       "      <th id=\"T_ddc97_level0_row2\" class=\"row_heading level0 row2\" >min</th>\n",
       "      <td id=\"T_ddc97_row2_col0\" class=\"data row2 col0\" >0.007500</td>\n",
       "      <td id=\"T_ddc97_row2_col1\" class=\"data row2 col1\" >0.005323</td>\n",
       "      <td id=\"T_ddc97_row2_col2\" class=\"data row2 col2\" >0.000177</td>\n",
       "      <td id=\"T_ddc97_row2_col3\" class=\"data row2 col3\" >0.006364</td>\n",
       "      <td id=\"T_ddc97_row2_col4\" class=\"data row2 col4\" >0.011628</td>\n",
       "      <td id=\"T_ddc97_row2_col5\" class=\"data row2 col5\" >0.000433</td>\n",
       "      <td id=\"T_ddc97_row2_col6\" class=\"data row2 col6\" >0.002718</td>\n",
       "      <td id=\"T_ddc97_row2_col7\" class=\"data row2 col7\" >0.001001</td>\n",
       "      <td id=\"T_ddc97_row2_col8\" class=\"data row2 col8\" >0.000124</td>\n",
       "    </tr>\n",
       "    <tr>\n",
       "      <th id=\"T_ddc97_level0_row3\" class=\"row_heading level0 row3\" >25%</th>\n",
       "      <td id=\"T_ddc97_row3_col0\" class=\"data row3 col0\" >0.016175</td>\n",
       "      <td id=\"T_ddc97_row3_col1\" class=\"data row3 col1\" >0.008905</td>\n",
       "      <td id=\"T_ddc97_row3_col2\" class=\"data row3 col2\" >0.000388</td>\n",
       "      <td id=\"T_ddc97_row3_col3\" class=\"data row3 col3\" >0.006717</td>\n",
       "      <td id=\"T_ddc97_row3_col4\" class=\"data row3 col4\" >0.021212</td>\n",
       "      <td id=\"T_ddc97_row3_col5\" class=\"data row3 col5\" >0.000481</td>\n",
       "      <td id=\"T_ddc97_row3_col6\" class=\"data row3 col6\" >0.002902</td>\n",
       "      <td id=\"T_ddc97_row3_col7\" class=\"data row3 col7\" >0.001068</td>\n",
       "      <td id=\"T_ddc97_row3_col8\" class=\"data row3 col8\" >0.000155</td>\n",
       "    </tr>\n",
       "    <tr>\n",
       "      <th id=\"T_ddc97_level0_row4\" class=\"row_heading level0 row4\" >50%</th>\n",
       "      <td id=\"T_ddc97_row4_col0\" class=\"data row4 col0\" >0.017614</td>\n",
       "      <td id=\"T_ddc97_row4_col1\" class=\"data row4 col1\" >0.009077</td>\n",
       "      <td id=\"T_ddc97_row4_col2\" class=\"data row4 col2\" >0.000471</td>\n",
       "      <td id=\"T_ddc97_row4_col3\" class=\"data row4 col3\" >0.006864</td>\n",
       "      <td id=\"T_ddc97_row4_col4\" class=\"data row4 col4\" >0.021447</td>\n",
       "      <td id=\"T_ddc97_row4_col5\" class=\"data row4 col5\" >0.000497</td>\n",
       "      <td id=\"T_ddc97_row4_col6\" class=\"data row4 col6\" >0.002974</td>\n",
       "      <td id=\"T_ddc97_row4_col7\" class=\"data row4 col7\" >0.001091</td>\n",
       "      <td id=\"T_ddc97_row4_col8\" class=\"data row4 col8\" >0.000161</td>\n",
       "    </tr>\n",
       "    <tr>\n",
       "      <th id=\"T_ddc97_level0_row5\" class=\"row_heading level0 row5\" >75%</th>\n",
       "      <td id=\"T_ddc97_row5_col0\" class=\"data row5 col0\" >0.020111</td>\n",
       "      <td id=\"T_ddc97_row5_col1\" class=\"data row5 col1\" >0.009317</td>\n",
       "      <td id=\"T_ddc97_row5_col2\" class=\"data row5 col2\" >0.000595</td>\n",
       "      <td id=\"T_ddc97_row5_col3\" class=\"data row5 col3\" >0.007098</td>\n",
       "      <td id=\"T_ddc97_row5_col4\" class=\"data row5 col4\" >0.021618</td>\n",
       "      <td id=\"T_ddc97_row5_col5\" class=\"data row5 col5\" >0.000519</td>\n",
       "      <td id=\"T_ddc97_row5_col6\" class=\"data row5 col6\" >0.003060</td>\n",
       "      <td id=\"T_ddc97_row5_col7\" class=\"data row5 col7\" >0.001138</td>\n",
       "      <td id=\"T_ddc97_row5_col8\" class=\"data row5 col8\" >0.000168</td>\n",
       "    </tr>\n",
       "    <tr>\n",
       "      <th id=\"T_ddc97_level0_row6\" class=\"row_heading level0 row6\" >max</th>\n",
       "      <td id=\"T_ddc97_row6_col0\" class=\"data row6 col0\" >0.147639</td>\n",
       "      <td id=\"T_ddc97_row6_col1\" class=\"data row6 col1\" >0.023661</td>\n",
       "      <td id=\"T_ddc97_row6_col2\" class=\"data row6 col2\" >0.001885</td>\n",
       "      <td id=\"T_ddc97_row6_col3\" class=\"data row6 col3\" >0.016557</td>\n",
       "      <td id=\"T_ddc97_row6_col4\" class=\"data row6 col4\" >0.024041</td>\n",
       "      <td id=\"T_ddc97_row6_col5\" class=\"data row6 col5\" >0.088799</td>\n",
       "      <td id=\"T_ddc97_row6_col6\" class=\"data row6 col6\" >0.213098</td>\n",
       "      <td id=\"T_ddc97_row6_col7\" class=\"data row6 col7\" >0.095690</td>\n",
       "      <td id=\"T_ddc97_row6_col8\" class=\"data row6 col8\" >0.000649</td>\n",
       "    </tr>\n",
       "    <tr>\n",
       "      <th id=\"T_ddc97_level0_row7\" class=\"row_heading level0 row7\" >sum</th>\n",
       "      <td id=\"T_ddc97_row7_col0\" class=\"data row7 col0\" >0.231620</td>\n",
       "      <td id=\"T_ddc97_row7_col1\" class=\"data row7 col1\" >0.066102</td>\n",
       "      <td id=\"T_ddc97_row7_col2\" class=\"data row7 col2\" >0.004192</td>\n",
       "      <td id=\"T_ddc97_row7_col3\" class=\"data row7 col3\" >0.051151</td>\n",
       "      <td id=\"T_ddc97_row7_col4\" class=\"data row7 col4\" >0.121823</td>\n",
       "      <td id=\"T_ddc97_row7_col5\" class=\"data row7 col5\" >0.091752</td>\n",
       "      <td id=\"T_ddc97_row7_col6\" class=\"data row7 col6\" >0.229043</td>\n",
       "      <td id=\"T_ddc97_row7_col7\" class=\"data row7 col7\" >0.101666</td>\n",
       "      <td id=\"T_ddc97_row7_col8\" class=\"data row7 col8\" >0.001438</td>\n",
       "    </tr>\n",
       "  </tbody>\n",
       "</table>\n"
      ],
      "text/plain": [
       "<pandas.io.formats.style.Styler at 0x7a9f436a6260>"
      ]
     },
     "metadata": {},
     "output_type": "display_data"
    },
    {
     "data": {
      "text/html": [
       "<div>\n",
       "<style scoped>\n",
       "    .dataframe tbody tr th:only-of-type {\n",
       "        vertical-align: middle;\n",
       "    }\n",
       "\n",
       "    .dataframe tbody tr th {\n",
       "        vertical-align: top;\n",
       "    }\n",
       "\n",
       "    .dataframe thead th {\n",
       "        text-align: right;\n",
       "    }\n",
       "</style>\n",
       "<table border=\"1\" class=\"dataframe\">\n",
       "  <thead>\n",
       "    <tr style=\"text-align: right;\">\n",
       "      <th></th>\n",
       "      <th>cols_sum</th>\n",
       "      <th>sum_batch_time</th>\n",
       "    </tr>\n",
       "  </thead>\n",
       "  <tbody>\n",
       "    <tr>\n",
       "      <th>mean</th>\n",
       "      <td>0.061484</td>\n",
       "      <td>0.068322</td>\n",
       "    </tr>\n",
       "    <tr>\n",
       "      <th>std</th>\n",
       "      <td>0.004830</td>\n",
       "      <td>0.004857</td>\n",
       "    </tr>\n",
       "    <tr>\n",
       "      <th>min</th>\n",
       "      <td>0.048641</td>\n",
       "      <td>0.055679</td>\n",
       "    </tr>\n",
       "    <tr>\n",
       "      <th>25%</th>\n",
       "      <td>0.058835</td>\n",
       "      <td>0.065661</td>\n",
       "    </tr>\n",
       "    <tr>\n",
       "      <th>50%</th>\n",
       "      <td>0.060546</td>\n",
       "      <td>0.067397</td>\n",
       "    </tr>\n",
       "    <tr>\n",
       "      <th>75%</th>\n",
       "      <td>0.063078</td>\n",
       "      <td>0.069944</td>\n",
       "    </tr>\n",
       "    <tr>\n",
       "      <th>max</th>\n",
       "      <td>0.470985</td>\n",
       "      <td>0.476939</td>\n",
       "    </tr>\n",
       "    <tr>\n",
       "      <th>sum</th>\n",
       "      <td>0.768399</td>\n",
       "      <td>0.808799</td>\n",
       "    </tr>\n",
       "  </tbody>\n",
       "</table>\n",
       "</div>"
      ],
      "text/plain": [
       "      cols_sum  sum_batch_time\n",
       "mean  0.061484        0.068322\n",
       "std   0.004830        0.004857\n",
       "min   0.048641        0.055679\n",
       "25%   0.058835        0.065661\n",
       "50%   0.060546        0.067397\n",
       "75%   0.063078        0.069944\n",
       "max   0.470985        0.476939\n",
       "sum   0.768399        0.808799"
      ]
     },
     "metadata": {},
     "output_type": "display_data"
    },
    {
     "data": {
      "image/png": "[encoded data removed]",
      "text/plain": [
       "<Figure size 640x480 with 1 Axes>"
      ]
     },
     "metadata": {},
     "output_type": "display_data"
    }
   ],
   "source": [
    "plot_log_info(log_training_smpl)"
   ]
  },
  {
   "cell_type": "markdown",
   "metadata": {},
   "source": [
    "## Batch 64"
   ]
  },
  {
   "cell_type": "code",
   "execution_count": 7,
   "metadata": {
    "execution": {
     "iopub.execute_input": "2024-05-23T19:44:20.180439Z",
     "iopub.status.busy": "2024-05-23T19:44:20.180204Z",
     "iopub.status.idle": "2024-05-23T19:44:20.244106Z",
     "shell.execute_reply": "2024-05-23T19:44:20.243069Z",
     "shell.execute_reply.started": "2024-05-23T19:44:20.180418Z"
    }
   },
   "outputs": [],
   "source": [
    "params['batch_size'] = 64\n",
    "params['warming_up_batches_num'] = 0"
   ]
  },
  {
   "cell_type": "code",
   "execution_count": 13,
   "metadata": {
    "execution": {
     "iopub.execute_input": "2024-05-23T20:10:51.918246Z",
     "iopub.status.busy": "2024-05-23T20:10:51.917891Z",
     "iopub.status.idle": "2024-05-23T20:32:46.073686Z",
     "shell.execute_reply": "2024-05-23T20:32:46.072756Z",
     "shell.execute_reply.started": "2024-05-23T20:10:51.918219Z"
    }
   },
   "outputs": [
    {
     "name": "stderr",
     "output_type": "stream",
     "text": [
      "Batches: 468it [21:54,  2.81s/it]                         "
     ]
    },
    {
     "name": "stdout",
     "output_type": "stream",
     "text": [
      "CPU times: user 25min 22s, sys: 31.7 s, total: 25min 54s\n",
      "Wall time: 21min 54s\n"
     ]
    },
    {
     "name": "stderr",
     "output_type": "stream",
     "text": [
      "\n"
     ]
    }
   ],
   "source": [
    "%%time\n",
    "log_training_batch = test_ruclip_training_time(**params)"
   ]
  },
  {
   "cell_type": "code",
   "execution_count": 17,
   "metadata": {
    "execution": {
     "iopub.execute_input": "2024-05-23T20:33:09.609752Z",
     "iopub.status.busy": "2024-05-23T20:33:09.609379Z",
     "iopub.status.idle": "2024-05-23T20:33:12.178419Z",
     "shell.execute_reply": "2024-05-23T20:33:12.177436Z",
     "shell.execute_reply.started": "2024-05-23T20:33:09.609700Z"
    }
   },
   "outputs": [
    {
     "name": "stdout",
     "output_type": "stream",
     "text": [
      "GPU 0: Tesla P100-PCIE-16GB\n"
     ]
    },
    {
     "data": {
      "text/html": [
       "<style type=\"text/css\">\n",
       "#T_0e4b3_row0_col0, #T_0e4b3_row4_col0 {\n",
       "  background-color: #8bb2d4;\n",
       "  color: #000000;\n",
       "}\n",
       "#T_0e4b3_row0_col1, #T_0e4b3_row5_col1 {\n",
       "  background-color: #7dacd1;\n",
       "  color: #f1f1f1;\n",
       "}\n",
       "#T_0e4b3_row0_col2, #T_0e4b3_row1_col3, #T_0e4b3_row2_col2, #T_0e4b3_row3_col2, #T_0e4b3_row4_col2, #T_0e4b3_row5_col2, #T_0e4b3_row7_col2 {\n",
       "  background-color: #fdf5fa;\n",
       "  color: #000000;\n",
       "}\n",
       "#T_0e4b3_row0_col3, #T_0e4b3_row1_col7, #T_0e4b3_row3_col3, #T_0e4b3_row4_col3, #T_0e4b3_row5_col3, #T_0e4b3_row6_col6, #T_0e4b3_row7_col3 {\n",
       "  background-color: #fef6fb;\n",
       "  color: #000000;\n",
       "}\n",
       "#T_0e4b3_row0_col4, #T_0e4b3_row1_col1, #T_0e4b3_row2_col4, #T_0e4b3_row3_col4, #T_0e4b3_row4_col4, #T_0e4b3_row5_col4, #T_0e4b3_row6_col4, #T_0e4b3_row7_col4 {\n",
       "  background-color: #023858;\n",
       "  color: #f1f1f1;\n",
       "}\n",
       "#T_0e4b3_row0_col5, #T_0e4b3_row0_col6, #T_0e4b3_row0_col7, #T_0e4b3_row0_col8, #T_0e4b3_row1_col5, #T_0e4b3_row1_col8, #T_0e4b3_row2_col5, #T_0e4b3_row2_col6, #T_0e4b3_row2_col7, #T_0e4b3_row2_col8, #T_0e4b3_row3_col5, #T_0e4b3_row3_col6, #T_0e4b3_row3_col7, #T_0e4b3_row3_col8, #T_0e4b3_row4_col5, #T_0e4b3_row4_col6, #T_0e4b3_row4_col7, #T_0e4b3_row4_col8, #T_0e4b3_row5_col5, #T_0e4b3_row5_col6, #T_0e4b3_row5_col7, #T_0e4b3_row5_col8, #T_0e4b3_row6_col5, #T_0e4b3_row6_col7, #T_0e4b3_row6_col8, #T_0e4b3_row7_col5, #T_0e4b3_row7_col6, #T_0e4b3_row7_col7, #T_0e4b3_row7_col8 {\n",
       "  background-color: #fff7fb;\n",
       "  color: #000000;\n",
       "}\n",
       "#T_0e4b3_row1_col0 {\n",
       "  background-color: #03517e;\n",
       "  color: #f1f1f1;\n",
       "}\n",
       "#T_0e4b3_row1_col2 {\n",
       "  background-color: #f9f2f8;\n",
       "  color: #000000;\n",
       "}\n",
       "#T_0e4b3_row1_col4 {\n",
       "  background-color: #197db7;\n",
       "  color: #f1f1f1;\n",
       "}\n",
       "#T_0e4b3_row1_col6, #T_0e4b3_row2_col3, #T_0e4b3_row6_col3 {\n",
       "  background-color: #fef6fa;\n",
       "  color: #000000;\n",
       "}\n",
       "#T_0e4b3_row2_col0 {\n",
       "  background-color: #96b6d7;\n",
       "  color: #000000;\n",
       "}\n",
       "#T_0e4b3_row2_col1 {\n",
       "  background-color: #88b1d4;\n",
       "  color: #000000;\n",
       "}\n",
       "#T_0e4b3_row3_col0 {\n",
       "  background-color: #91b5d6;\n",
       "  color: #000000;\n",
       "}\n",
       "#T_0e4b3_row3_col1 {\n",
       "  background-color: #81aed2;\n",
       "  color: #f1f1f1;\n",
       "}\n",
       "#T_0e4b3_row4_col1 {\n",
       "  background-color: #80aed2;\n",
       "  color: #f1f1f1;\n",
       "}\n",
       "#T_0e4b3_row5_col0 {\n",
       "  background-color: #86b0d3;\n",
       "  color: #000000;\n",
       "}\n",
       "#T_0e4b3_row6_col0 {\n",
       "  background-color: #5a9ec9;\n",
       "  color: #f1f1f1;\n",
       "}\n",
       "#T_0e4b3_row6_col1 {\n",
       "  background-color: #328dbf;\n",
       "  color: #f1f1f1;\n",
       "}\n",
       "#T_0e4b3_row6_col2 {\n",
       "  background-color: #fcf4fa;\n",
       "  color: #000000;\n",
       "}\n",
       "#T_0e4b3_row7_col0 {\n",
       "  background-color: #83afd3;\n",
       "  color: #f1f1f1;\n",
       "}\n",
       "#T_0e4b3_row7_col1 {\n",
       "  background-color: #71a8ce;\n",
       "  color: #f1f1f1;\n",
       "}\n",
       "</style>\n",
       "<table id=\"T_0e4b3\">\n",
       "  <thead>\n",
       "    <tr>\n",
       "      <th class=\"blank level0\" >&nbsp;</th>\n",
       "      <th id=\"T_0e4b3_level0_col0\" class=\"col_heading level0 col0\" >loading_images</th>\n",
       "      <th id=\"T_0e4b3_level0_col1\" class=\"col_heading level0 col1\" >image_processing</th>\n",
       "      <th id=\"T_0e4b3_level0_col2\" class=\"col_heading level0 col2\" >text_processing</th>\n",
       "      <th id=\"T_0e4b3_level0_col3\" class=\"col_heading level0 col3\" >calc_image_latents</th>\n",
       "      <th id=\"T_0e4b3_level0_col4\" class=\"col_heading level0 col4\" >calc_text_latents</th>\n",
       "      <th id=\"T_0e4b3_level0_col5\" class=\"col_heading level0 col5\" >loss_calc</th>\n",
       "      <th id=\"T_0e4b3_level0_col6\" class=\"col_heading level0 col6\" >loss_backprop</th>\n",
       "      <th id=\"T_0e4b3_level0_col7\" class=\"col_heading level0 col7\" >optimizer_step</th>\n",
       "      <th id=\"T_0e4b3_level0_col8\" class=\"col_heading level0 col8\" >saving_embeddings</th>\n",
       "    </tr>\n",
       "  </thead>\n",
       "  <tbody>\n",
       "    <tr>\n",
       "      <th id=\"T_0e4b3_level0_row0\" class=\"row_heading level0 row0\" >mean</th>\n",
       "      <td id=\"T_0e4b3_row0_col0\" class=\"data row0 col0\" >0.581005</td>\n",
       "      <td id=\"T_0e4b3_row0_col1\" class=\"data row0 col1\" >0.626940</td>\n",
       "      <td id=\"T_0e4b3_row0_col2\" class=\"data row0 col2\" >0.017005</td>\n",
       "      <td id=\"T_0e4b3_row0_col3\" class=\"data row0 col3\" >0.007652</td>\n",
       "      <td id=\"T_0e4b3_row0_col4\" class=\"data row0 col4\" >1.307838</td>\n",
       "      <td id=\"T_0e4b3_row0_col5\" class=\"data row0 col5\" >0.000695</td>\n",
       "      <td id=\"T_0e4b3_row0_col6\" class=\"data row0 col6\" >0.003645</td>\n",
       "      <td id=\"T_0e4b3_row0_col7\" class=\"data row0 col7\" >0.001292</td>\n",
       "      <td id=\"T_0e4b3_row0_col8\" class=\"data row0 col8\" >0.000800</td>\n",
       "    </tr>\n",
       "    <tr>\n",
       "      <th id=\"T_0e4b3_level0_row1\" class=\"row_heading level0 row1\" >std</th>\n",
       "      <td id=\"T_0e4b3_row1_col0\" class=\"data row1 col0\" >0.030556</td>\n",
       "      <td id=\"T_0e4b3_row1_col1\" class=\"data row1 col1\" >0.033584</td>\n",
       "      <td id=\"T_0e4b3_row1_col2\" class=\"data row1 col2\" >0.001500</td>\n",
       "      <td id=\"T_0e4b3_row1_col3\" class=\"data row1 col3\" >0.000525</td>\n",
       "      <td id=\"T_0e4b3_row1_col4\" class=\"data row1 col4\" >0.023417</td>\n",
       "      <td id=\"T_0e4b3_row1_col5\" class=\"data row1 col5\" >0.000070</td>\n",
       "      <td id=\"T_0e4b3_row1_col6\" class=\"data row1 col6\" >0.000438</td>\n",
       "      <td id=\"T_0e4b3_row1_col7\" class=\"data row1 col7\" >0.000205</td>\n",
       "      <td id=\"T_0e4b3_row1_col8\" class=\"data row1 col8\" >0.000065</td>\n",
       "    </tr>\n",
       "    <tr>\n",
       "      <th id=\"T_0e4b3_level0_row2\" class=\"row_heading level0 row2\" >min</th>\n",
       "      <td id=\"T_0e4b3_row2_col0\" class=\"data row2 col0\" >0.338172</td>\n",
       "      <td id=\"T_0e4b3_row2_col1\" class=\"data row2 col1\" >0.365188</td>\n",
       "      <td id=\"T_0e4b3_row2_col2\" class=\"data row2 col2\" >0.010446</td>\n",
       "      <td id=\"T_0e4b3_row2_col3\" class=\"data row2 col3\" >0.007247</td>\n",
       "      <td id=\"T_0e4b3_row2_col4\" class=\"data row2 col4\" >0.808997</td>\n",
       "      <td id=\"T_0e4b3_row2_col5\" class=\"data row2 col5\" >0.000623</td>\n",
       "      <td id=\"T_0e4b3_row2_col6\" class=\"data row2 col6\" >0.003309</td>\n",
       "      <td id=\"T_0e4b3_row2_col7\" class=\"data row2 col7\" >0.001175</td>\n",
       "      <td id=\"T_0e4b3_row2_col8\" class=\"data row2 col8\" >0.000650</td>\n",
       "    </tr>\n",
       "    <tr>\n",
       "      <th id=\"T_0e4b3_level0_row3\" class=\"row_heading level0 row3\" >25%</th>\n",
       "      <td id=\"T_0e4b3_row3_col0\" class=\"data row3 col0\" >0.560955</td>\n",
       "      <td id=\"T_0e4b3_row3_col1\" class=\"data row3 col1\" >0.613011</td>\n",
       "      <td id=\"T_0e4b3_row3_col2\" class=\"data row3 col2\" >0.016108</td>\n",
       "      <td id=\"T_0e4b3_row3_col3\" class=\"data row3 col3\" >0.007429</td>\n",
       "      <td id=\"T_0e4b3_row3_col4\" class=\"data row3 col4\" >1.307996</td>\n",
       "      <td id=\"T_0e4b3_row3_col5\" class=\"data row3 col5\" >0.000661</td>\n",
       "      <td id=\"T_0e4b3_row3_col6\" class=\"data row3 col6\" >0.003423</td>\n",
       "      <td id=\"T_0e4b3_row3_col7\" class=\"data row3 col7\" >0.001213</td>\n",
       "      <td id=\"T_0e4b3_row3_col8\" class=\"data row3 col8\" >0.000755</td>\n",
       "    </tr>\n",
       "    <tr>\n",
       "      <th id=\"T_0e4b3_level0_row4\" class=\"row_heading level0 row4\" >50%</th>\n",
       "      <td id=\"T_0e4b3_row4_col0\" class=\"data row4 col0\" >0.578482</td>\n",
       "      <td id=\"T_0e4b3_row4_col1\" class=\"data row4 col1\" >0.619348</td>\n",
       "      <td id=\"T_0e4b3_row4_col2\" class=\"data row4 col2\" >0.016833</td>\n",
       "      <td id=\"T_0e4b3_row4_col3\" class=\"data row4 col3\" >0.007515</td>\n",
       "      <td id=\"T_0e4b3_row4_col4\" class=\"data row4 col4\" >1.309639</td>\n",
       "      <td id=\"T_0e4b3_row4_col5\" class=\"data row4 col5\" >0.000675</td>\n",
       "      <td id=\"T_0e4b3_row4_col6\" class=\"data row4 col6\" >0.003504</td>\n",
       "      <td id=\"T_0e4b3_row4_col7\" class=\"data row4 col7\" >0.001231</td>\n",
       "      <td id=\"T_0e4b3_row4_col8\" class=\"data row4 col8\" >0.000803</td>\n",
       "    </tr>\n",
       "    <tr>\n",
       "      <th id=\"T_0e4b3_level0_row5\" class=\"row_heading level0 row5\" >75%</th>\n",
       "      <td id=\"T_0e4b3_row5_col0\" class=\"data row5 col0\" >0.598963</td>\n",
       "      <td id=\"T_0e4b3_row5_col1\" class=\"data row5 col1\" >0.629716</td>\n",
       "      <td id=\"T_0e4b3_row5_col2\" class=\"data row5 col2\" >0.017620</td>\n",
       "      <td id=\"T_0e4b3_row5_col3\" class=\"data row5 col3\" >0.007674</td>\n",
       "      <td id=\"T_0e4b3_row5_col4\" class=\"data row5 col4\" >1.310975</td>\n",
       "      <td id=\"T_0e4b3_row5_col5\" class=\"data row5 col5\" >0.000697</td>\n",
       "      <td id=\"T_0e4b3_row5_col6\" class=\"data row5 col6\" >0.003650</td>\n",
       "      <td id=\"T_0e4b3_row5_col7\" class=\"data row5 col7\" >0.001273</td>\n",
       "      <td id=\"T_0e4b3_row5_col8\" class=\"data row5 col8\" >0.000840</td>\n",
       "    </tr>\n",
       "    <tr>\n",
       "      <th id=\"T_0e4b3_level0_row6\" class=\"row_heading level0 row6\" >max</th>\n",
       "      <td id=\"T_0e4b3_row6_col0\" class=\"data row6 col0\" >0.725495</td>\n",
       "      <td id=\"T_0e4b3_row6_col1\" class=\"data row6 col1\" >0.837859</td>\n",
       "      <td id=\"T_0e4b3_row6_col2\" class=\"data row6 col2\" >0.027878</td>\n",
       "      <td id=\"T_0e4b3_row6_col3\" class=\"data row6 col3\" >0.012170</td>\n",
       "      <td id=\"T_0e4b3_row6_col4\" class=\"data row6 col4\" >1.316041</td>\n",
       "      <td id=\"T_0e4b3_row6_col5\" class=\"data row6 col5\" >0.001241</td>\n",
       "      <td id=\"T_0e4b3_row6_col6\" class=\"data row6 col6\" >0.007357</td>\n",
       "      <td id=\"T_0e4b3_row6_col7\" class=\"data row6 col7\" >0.002946</td>\n",
       "      <td id=\"T_0e4b3_row6_col8\" class=\"data row6 col8\" >0.001155</td>\n",
       "    </tr>\n",
       "    <tr>\n",
       "      <th id=\"T_0e4b3_level0_row7\" class=\"row_heading level0 row7\" >sum</th>\n",
       "      <td id=\"T_0e4b3_row7_col0\" class=\"data row7 col0\" >3.413628</td>\n",
       "      <td id=\"T_0e4b3_row7_col1\" class=\"data row7 col1\" >3.725646</td>\n",
       "      <td id=\"T_0e4b3_row7_col2\" class=\"data row7 col2\" >0.107390</td>\n",
       "      <td id=\"T_0e4b3_row7_col3\" class=\"data row7 col3\" >0.050211</td>\n",
       "      <td id=\"T_0e4b3_row7_col4\" class=\"data row7 col4\" >7.384904</td>\n",
       "      <td id=\"T_0e4b3_row7_col5\" class=\"data row7 col5\" >0.004662</td>\n",
       "      <td id=\"T_0e4b3_row7_col6\" class=\"data row7 col6\" >0.025326</td>\n",
       "      <td id=\"T_0e4b3_row7_col7\" class=\"data row7 col7\" >0.009335</td>\n",
       "      <td id=\"T_0e4b3_row7_col8\" class=\"data row7 col8\" >0.005069</td>\n",
       "    </tr>\n",
       "  </tbody>\n",
       "</table>\n"
      ],
      "text/plain": [
       "<pandas.io.formats.style.Styler at 0x7fa9a91fb880>"
      ]
     },
     "metadata": {},
     "output_type": "display_data"
    },
    {
     "data": {
      "text/html": [
       "<div>\n",
       "<style scoped>\n",
       "    .dataframe tbody tr th:only-of-type {\n",
       "        vertical-align: middle;\n",
       "    }\n",
       "\n",
       "    .dataframe tbody tr th {\n",
       "        vertical-align: top;\n",
       "    }\n",
       "\n",
       "    .dataframe thead th {\n",
       "        text-align: right;\n",
       "    }\n",
       "</style>\n",
       "<table border=\"1\" class=\"dataframe\">\n",
       "  <thead>\n",
       "    <tr style=\"text-align: right;\">\n",
       "      <th></th>\n",
       "      <th>cols_sum</th>\n",
       "      <th>sum_batch_time</th>\n",
       "    </tr>\n",
       "  </thead>\n",
       "  <tbody>\n",
       "    <tr>\n",
       "      <th>mean</th>\n",
       "      <td>2.546873</td>\n",
       "      <td>2.806311</td>\n",
       "    </tr>\n",
       "    <tr>\n",
       "      <th>std</th>\n",
       "      <td>0.066506</td>\n",
       "      <td>0.069622</td>\n",
       "    </tr>\n",
       "    <tr>\n",
       "      <th>min</th>\n",
       "      <td>1.536738</td>\n",
       "      <td>1.702182</td>\n",
       "    </tr>\n",
       "    <tr>\n",
       "      <th>25%</th>\n",
       "      <td>2.520971</td>\n",
       "      <td>2.781015</td>\n",
       "    </tr>\n",
       "    <tr>\n",
       "      <th>50%</th>\n",
       "      <td>2.540783</td>\n",
       "      <td>2.799249</td>\n",
       "    </tr>\n",
       "    <tr>\n",
       "      <th>75%</th>\n",
       "      <td>2.566437</td>\n",
       "      <td>2.824932</td>\n",
       "    </tr>\n",
       "    <tr>\n",
       "      <th>max</th>\n",
       "      <td>2.825675</td>\n",
       "      <td>3.086687</td>\n",
       "    </tr>\n",
       "    <tr>\n",
       "      <th>sum</th>\n",
       "      <td>14.603983</td>\n",
       "      <td>16.069998</td>\n",
       "    </tr>\n",
       "  </tbody>\n",
       "</table>\n",
       "</div>"
      ],
      "text/plain": [
       "       cols_sum  sum_batch_time\n",
       "mean   2.546873        2.806311\n",
       "std    0.066506        0.069622\n",
       "min    1.536738        1.702182\n",
       "25%    2.520971        2.781015\n",
       "50%    2.540783        2.799249\n",
       "75%    2.566437        2.824932\n",
       "max    2.825675        3.086687\n",
       "sum   14.603983       16.069998"
      ]
     },
     "metadata": {},
     "output_type": "display_data"
    },
    {
     "data": {
      "image/png": "[encoded data removed]",
      "text/plain": [
       "<Figure size 640x480 with 1 Axes>"
      ]
     },
     "metadata": {},
     "output_type": "display_data"
    }
   ],
   "source": [
    "plot_log_info(log_training_batch)"
   ]
  },
  {
   "cell_type": "markdown",
   "metadata": {},
   "source": [
    "# Inference"
   ]
  },
  {
   "cell_type": "markdown",
   "metadata": {},
   "source": [
    "## Batch 64"
   ]
  },
  {
   "cell_type": "code",
   "execution_count": 21,
   "metadata": {
    "execution": {
     "iopub.execute_input": "2024-05-23T20:35:05.074724Z",
     "iopub.status.busy": "2024-05-23T20:35:05.074362Z",
     "iopub.status.idle": "2024-05-23T20:35:05.080461Z",
     "shell.execute_reply": "2024-05-23T20:35:05.079212Z",
     "shell.execute_reply.started": "2024-05-23T20:35:05.074685Z"
    }
   },
   "outputs": [],
   "source": [
    "params = {\n",
    "    'clf': clf,\n",
    "    'image_names': images,\n",
    "    'texts': texts,\n",
    "    'characteristics': ['category', 'sub_category', 'isadult'],\n",
    "    'batch_size': 64,\n",
    "    'path_to_images': '../input/wbtech-horizontal-ml-images/',\n",
    "}"
   ]
  },
  {
   "cell_type": "code",
   "execution_count": null,
   "metadata": {},
   "outputs": [],
   "source": [
    "%%time\n",
    "log_inference = test_classifier_inference_time(**params)"
   ]
  },
  {
   "cell_type": "code",
   "execution_count": 23,
   "metadata": {
    "execution": {
     "iopub.execute_input": "2024-05-23T20:58:19.150390Z",
     "iopub.status.busy": "2024-05-23T20:58:19.147908Z",
     "iopub.status.idle": "2024-05-23T20:58:20.808198Z",
     "shell.execute_reply": "2024-05-23T20:58:20.807291Z",
     "shell.execute_reply.started": "2024-05-23T20:58:19.150334Z"
    }
   },
   "outputs": [
    {
     "name": "stdout",
     "output_type": "stream",
     "text": [
      "GPU 0: Tesla P100-PCIE-16GB\n"
     ]
    },
    {
     "data": {
      "text/html": [
       "<style type=\"text/css\">\n",
       "#T_c7d95_row0_col0, #T_c7d95_row4_col0 {\n",
       "  background-color: #afc1dd;\n",
       "  color: #000000;\n",
       "}\n",
       "#T_c7d95_row0_col1, #T_c7d95_row4_col1 {\n",
       "  background-color: #b3c3de;\n",
       "  color: #000000;\n",
       "}\n",
       "#T_c7d95_row0_col2, #T_c7d95_row0_col5, #T_c7d95_row1_col3, #T_c7d95_row2_col2, #T_c7d95_row2_col5, #T_c7d95_row3_col2, #T_c7d95_row3_col5, #T_c7d95_row4_col2, #T_c7d95_row4_col5, #T_c7d95_row5_col2, #T_c7d95_row5_col5, #T_c7d95_row6_col2, #T_c7d95_row7_col2 {\n",
       "  background-color: #fff7fb;\n",
       "  color: #000000;\n",
       "}\n",
       "#T_c7d95_row0_col3, #T_c7d95_row4_col3, #T_c7d95_row5_col3, #T_c7d95_row7_col3 {\n",
       "  background-color: #fef6fa;\n",
       "  color: #000000;\n",
       "}\n",
       "#T_c7d95_row0_col4, #T_c7d95_row1_col0, #T_c7d95_row2_col4, #T_c7d95_row3_col4, #T_c7d95_row4_col4, #T_c7d95_row5_col4, #T_c7d95_row6_col4, #T_c7d95_row7_col4 {\n",
       "  background-color: #023858;\n",
       "  color: #f1f1f1;\n",
       "}\n",
       "#T_c7d95_row1_col1 {\n",
       "  background-color: #034165;\n",
       "  color: #f1f1f1;\n",
       "}\n",
       "#T_c7d95_row1_col2 {\n",
       "  background-color: #fbf3f9;\n",
       "  color: #000000;\n",
       "}\n",
       "#T_c7d95_row1_col4 {\n",
       "  background-color: #023a5b;\n",
       "  color: #f1f1f1;\n",
       "}\n",
       "#T_c7d95_row1_col5 {\n",
       "  background-color: #0570b0;\n",
       "  color: #f1f1f1;\n",
       "}\n",
       "#T_c7d95_row2_col0 {\n",
       "  background-color: #9ebad9;\n",
       "  color: #000000;\n",
       "}\n",
       "#T_c7d95_row2_col1 {\n",
       "  background-color: #b9c6e0;\n",
       "  color: #000000;\n",
       "}\n",
       "#T_c7d95_row2_col3, #T_c7d95_row3_col3, #T_c7d95_row7_col5 {\n",
       "  background-color: #fdf5fa;\n",
       "  color: #000000;\n",
       "}\n",
       "#T_c7d95_row3_col0, #T_c7d95_row5_col1 {\n",
       "  background-color: #b1c2de;\n",
       "  color: #000000;\n",
       "}\n",
       "#T_c7d95_row3_col1 {\n",
       "  background-color: #b5c4df;\n",
       "  color: #000000;\n",
       "}\n",
       "#T_c7d95_row5_col0, #T_c7d95_row7_col1 {\n",
       "  background-color: #acc0dd;\n",
       "  color: #000000;\n",
       "}\n",
       "#T_c7d95_row6_col0 {\n",
       "  background-color: #a1bbda;\n",
       "  color: #000000;\n",
       "}\n",
       "#T_c7d95_row6_col1 {\n",
       "  background-color: #84b0d3;\n",
       "  color: #f1f1f1;\n",
       "}\n",
       "#T_c7d95_row6_col3 {\n",
       "  background-color: #fef6fb;\n",
       "  color: #000000;\n",
       "}\n",
       "#T_c7d95_row6_col5 {\n",
       "  background-color: #f5eef6;\n",
       "  color: #000000;\n",
       "}\n",
       "#T_c7d95_row7_col0 {\n",
       "  background-color: #abbfdc;\n",
       "  color: #000000;\n",
       "}\n",
       "</style>\n",
       "<table id=\"T_c7d95\">\n",
       "  <thead>\n",
       "    <tr>\n",
       "      <th class=\"blank level0\" >&nbsp;</th>\n",
       "      <th id=\"T_c7d95_level0_col0\" class=\"col_heading level0 col0\" >loading_images</th>\n",
       "      <th id=\"T_c7d95_level0_col1\" class=\"col_heading level0 col1\" >image_processing</th>\n",
       "      <th id=\"T_c7d95_level0_col2\" class=\"col_heading level0 col2\" >text_processing</th>\n",
       "      <th id=\"T_c7d95_level0_col3\" class=\"col_heading level0 col3\" >calc_image_latents</th>\n",
       "      <th id=\"T_c7d95_level0_col4\" class=\"col_heading level0 col4\" >calc_text_latents</th>\n",
       "      <th id=\"T_c7d95_level0_col5\" class=\"col_heading level0 col5\" >predictions</th>\n",
       "    </tr>\n",
       "  </thead>\n",
       "  <tbody>\n",
       "    <tr>\n",
       "      <th id=\"T_c7d95_level0_row0\" class=\"row_heading level0 row0\" >mean</th>\n",
       "      <td id=\"T_c7d95_row0_col0\" class=\"data row0 col0\" >0.601669</td>\n",
       "      <td id=\"T_c7d95_row0_col1\" class=\"data row0 col1\" >0.584175</td>\n",
       "      <td id=\"T_c7d95_row0_col2\" class=\"data row0 col2\" >0.017131</td>\n",
       "      <td id=\"T_c7d95_row0_col3\" class=\"data row0 col3\" >0.031984</td>\n",
       "      <td id=\"T_c7d95_row0_col4\" class=\"data row0 col4\" >1.695732</td>\n",
       "      <td id=\"T_c7d95_row0_col5\" class=\"data row0 col5\" >0.019890</td>\n",
       "    </tr>\n",
       "    <tr>\n",
       "      <th id=\"T_c7d95_level0_row1\" class=\"row_heading level0 row1\" >std</th>\n",
       "      <td id=\"T_c7d95_row1_col0\" class=\"data row1 col0\" >0.031900</td>\n",
       "      <td id=\"T_c7d95_row1_col1\" class=\"data row1 col1\" >0.030908</td>\n",
       "      <td id=\"T_c7d95_row1_col2\" class=\"data row1 col2\" >0.001836</td>\n",
       "      <td id=\"T_c7d95_row1_col3\" class=\"data row1 col3\" >0.000869</td>\n",
       "      <td id=\"T_c7d95_row1_col4\" class=\"data row1 col4\" >0.031558</td>\n",
       "      <td id=\"T_c7d95_row1_col5\" class=\"data row1 col5\" >0.024141</td>\n",
       "    </tr>\n",
       "    <tr>\n",
       "      <th id=\"T_c7d95_level0_row2\" class=\"row_heading level0 row2\" >min</th>\n",
       "      <td id=\"T_c7d95_row2_col0\" class=\"data row2 col0\" >0.431545</td>\n",
       "      <td id=\"T_c7d95_row2_col1\" class=\"data row2 col1\" >0.345230</td>\n",
       "      <td id=\"T_c7d95_row2_col2\" class=\"data row2 col2\" >0.010891</td>\n",
       "      <td id=\"T_c7d95_row2_col3\" class=\"data row2 col3\" >0.024220</td>\n",
       "      <td id=\"T_c7d95_row2_col4\" class=\"data row2 col4\" >1.075067</td>\n",
       "      <td id=\"T_c7d95_row2_col5\" class=\"data row2 col5\" >0.007046</td>\n",
       "    </tr>\n",
       "    <tr>\n",
       "      <th id=\"T_c7d95_level0_row3\" class=\"row_heading level0 row3\" >25%</th>\n",
       "      <td id=\"T_c7d95_row3_col0\" class=\"data row3 col0\" >0.583167</td>\n",
       "      <td id=\"T_c7d95_row3_col1\" class=\"data row3 col1\" >0.565942</td>\n",
       "      <td id=\"T_c7d95_row3_col2\" class=\"data row3 col2\" >0.016107</td>\n",
       "      <td id=\"T_c7d95_row3_col3\" class=\"data row3 col3\" >0.031599</td>\n",
       "      <td id=\"T_c7d95_row3_col4\" class=\"data row3 col4\" >1.689654</td>\n",
       "      <td id=\"T_c7d95_row3_col5\" class=\"data row3 col5\" >0.011695</td>\n",
       "    </tr>\n",
       "    <tr>\n",
       "      <th id=\"T_c7d95_level0_row4\" class=\"row_heading level0 row4\" >50%</th>\n",
       "      <td id=\"T_c7d95_row4_col0\" class=\"data row4 col0\" >0.601929</td>\n",
       "      <td id=\"T_c7d95_row4_col1\" class=\"data row4 col1\" >0.581136</td>\n",
       "      <td id=\"T_c7d95_row4_col2\" class=\"data row4 col2\" >0.016884</td>\n",
       "      <td id=\"T_c7d95_row4_col3\" class=\"data row4 col3\" >0.031830</td>\n",
       "      <td id=\"T_c7d95_row4_col4\" class=\"data row4 col4\" >1.694749</td>\n",
       "      <td id=\"T_c7d95_row4_col5\" class=\"data row4 col5\" >0.013099</td>\n",
       "    </tr>\n",
       "    <tr>\n",
       "      <th id=\"T_c7d95_level0_row5\" class=\"row_heading level0 row5\" >75%</th>\n",
       "      <td id=\"T_c7d95_row5_col0\" class=\"data row5 col0\" >0.620000</td>\n",
       "      <td id=\"T_c7d95_row5_col1\" class=\"data row5 col1\" >0.591388</td>\n",
       "      <td id=\"T_c7d95_row5_col2\" class=\"data row5 col2\" >0.017692</td>\n",
       "      <td id=\"T_c7d95_row5_col3\" class=\"data row5 col3\" >0.032166</td>\n",
       "      <td id=\"T_c7d95_row5_col4\" class=\"data row5 col4\" >1.701736</td>\n",
       "      <td id=\"T_c7d95_row5_col5\" class=\"data row5 col5\" >0.013899</td>\n",
       "    </tr>\n",
       "    <tr>\n",
       "      <th id=\"T_c7d95_level0_row6\" class=\"row_heading level0 row6\" >max</th>\n",
       "      <td id=\"T_c7d95_row6_col0\" class=\"data row6 col0\" >0.710122</td>\n",
       "      <td id=\"T_c7d95_row6_col1\" class=\"data row6 col1\" >0.832009</td>\n",
       "      <td id=\"T_c7d95_row6_col2\" class=\"data row6 col2\" >0.029312</td>\n",
       "      <td id=\"T_c7d95_row6_col3\" class=\"data row6 col3\" >0.040060</td>\n",
       "      <td id=\"T_c7d95_row6_col4\" class=\"data row6 col4\" >1.775062</td>\n",
       "      <td id=\"T_c7d95_row6_col5\" class=\"data row6 col5\" >0.146643</td>\n",
       "    </tr>\n",
       "    <tr>\n",
       "      <th id=\"T_c7d95_level0_row7\" class=\"row_heading level0 row7\" >sum</th>\n",
       "      <td id=\"T_c7d95_row7_col0\" class=\"data row7 col0\" >3.580331</td>\n",
       "      <td id=\"T_c7d95_row7_col1\" class=\"data row7 col1\" >3.530787</td>\n",
       "      <td id=\"T_c7d95_row7_col2\" class=\"data row7 col2\" >0.109853</td>\n",
       "      <td id=\"T_c7d95_row7_col3\" class=\"data row7 col3\" >0.192728</td>\n",
       "      <td id=\"T_c7d95_row7_col4\" class=\"data row7 col4\" >9.663559</td>\n",
       "      <td id=\"T_c7d95_row7_col5\" class=\"data row7 col5\" >0.236412</td>\n",
       "    </tr>\n",
       "  </tbody>\n",
       "</table>\n"
      ],
      "text/plain": [
       "<pandas.io.formats.style.Styler at 0x7fac8a90eef0>"
      ]
     },
     "metadata": {},
     "output_type": "display_data"
    },
    {
     "data": {
      "text/html": [
       "<div>\n",
       "<style scoped>\n",
       "    .dataframe tbody tr th:only-of-type {\n",
       "        vertical-align: middle;\n",
       "    }\n",
       "\n",
       "    .dataframe tbody tr th {\n",
       "        vertical-align: top;\n",
       "    }\n",
       "\n",
       "    .dataframe thead th {\n",
       "        text-align: right;\n",
       "    }\n",
       "</style>\n",
       "<table border=\"1\" class=\"dataframe\">\n",
       "  <thead>\n",
       "    <tr style=\"text-align: right;\">\n",
       "      <th></th>\n",
       "      <th>cols_sum</th>\n",
       "      <th>sum_batch_time</th>\n",
       "    </tr>\n",
       "  </thead>\n",
       "  <tbody>\n",
       "    <tr>\n",
       "      <th>mean</th>\n",
       "      <td>2.950581</td>\n",
       "      <td>2.953192</td>\n",
       "    </tr>\n",
       "    <tr>\n",
       "      <th>std</th>\n",
       "      <td>0.073043</td>\n",
       "      <td>0.073072</td>\n",
       "    </tr>\n",
       "    <tr>\n",
       "      <th>min</th>\n",
       "      <td>1.899760</td>\n",
       "      <td>1.902325</td>\n",
       "    </tr>\n",
       "    <tr>\n",
       "      <th>25%</th>\n",
       "      <td>2.918037</td>\n",
       "      <td>2.920567</td>\n",
       "    </tr>\n",
       "    <tr>\n",
       "      <th>50%</th>\n",
       "      <td>2.945812</td>\n",
       "      <td>2.948411</td>\n",
       "    </tr>\n",
       "    <tr>\n",
       "      <th>75%</th>\n",
       "      <td>2.974920</td>\n",
       "      <td>2.977529</td>\n",
       "    </tr>\n",
       "    <tr>\n",
       "      <th>max</th>\n",
       "      <td>3.277855</td>\n",
       "      <td>3.280738</td>\n",
       "    </tr>\n",
       "    <tr>\n",
       "      <th>sum</th>\n",
       "      <td>17.040008</td>\n",
       "      <td>17.055834</td>\n",
       "    </tr>\n",
       "  </tbody>\n",
       "</table>\n",
       "</div>"
      ],
      "text/plain": [
       "       cols_sum  sum_batch_time\n",
       "mean   2.950581        2.953192\n",
       "std    0.073043        0.073072\n",
       "min    1.899760        1.902325\n",
       "25%    2.918037        2.920567\n",
       "50%    2.945812        2.948411\n",
       "75%    2.974920        2.977529\n",
       "max    3.277855        3.280738\n",
       "sum   17.040008       17.055834"
      ]
     },
     "metadata": {},
     "output_type": "display_data"
    },
    {
     "data": {
      "image/png": "[encoded data removed]",
      "text/plain": [
       "<Figure size 640x480 with 1 Axes>"
      ]
     },
     "metadata": {},
     "output_type": "display_data"
    }
   ],
   "source": [
    "plot_log_info(log_inference)"
   ]
  },
  {
   "cell_type": "markdown",
   "metadata": {},
   "source": [
    "## One sample"
   ]
  },
  {
   "cell_type": "code",
   "execution_count": 9,
   "metadata": {
    "execution": {
     "iopub.execute_input": "2024-05-23T21:32:10.902693Z",
     "iopub.status.busy": "2024-05-23T21:32:10.902412Z",
     "iopub.status.idle": "2024-05-23T21:32:10.908296Z",
     "shell.execute_reply": "2024-05-23T21:32:10.907197Z",
     "shell.execute_reply.started": "2024-05-23T21:32:10.902669Z"
    }
   },
   "outputs": [],
   "source": [
    "params = {\n",
    "    'clf': clf,\n",
    "    'image_names': images[:10000],\n",
    "    'texts': texts[:10000],\n",
    "    'characteristics': ['category', 'sub_category', 'isadult'],\n",
    "    'batch_size': 1,\n",
    "    'path_to_images': '../input/wbtech-horizontal-ml-images/',\n",
    "}"
   ]
  },
  {
   "cell_type": "code",
   "execution_count": 10,
   "metadata": {
    "execution": {
     "iopub.execute_input": "2024-05-23T21:32:10.909662Z",
     "iopub.status.busy": "2024-05-23T21:32:10.909400Z",
     "iopub.status.idle": "2024-05-23T21:49:43.644106Z",
     "shell.execute_reply": "2024-05-23T21:49:43.641279Z",
     "shell.execute_reply.started": "2024-05-23T21:32:10.909639Z"
    }
   },
   "outputs": [
    {
     "name": "stderr",
     "output_type": "stream",
     "text": [
      "100%|██████████| 10000/10000 [17:30<00:00,  9.52it/s]"
     ]
    },
    {
     "name": "stdout",
     "output_type": "stream",
     "text": [
      "CPU times: user 40min 23s, sys: 26min 21s, total: 1h 6min 45s\n",
      "Wall time: 17min 32s\n"
     ]
    },
    {
     "name": "stderr",
     "output_type": "stream",
     "text": [
      "\n"
     ]
    }
   ],
   "source": [
    "%%time\n",
    "log_inference = test_classifier_inference_time(**params)"
   ]
  },
  {
   "cell_type": "code",
   "execution_count": 11,
   "metadata": {
    "execution": {
     "iopub.execute_input": "2024-05-23T21:49:43.645856Z",
     "iopub.status.busy": "2024-05-23T21:49:43.645501Z",
     "iopub.status.idle": "2024-05-23T21:49:45.413304Z",
     "shell.execute_reply": "2024-05-23T21:49:45.412373Z",
     "shell.execute_reply.started": "2024-05-23T21:49:43.645823Z"
    }
   },
   "outputs": [
    {
     "name": "stdout",
     "output_type": "stream",
     "text": [
      "GPU 0: Tesla P100-PCIE-16GB\n"
     ]
    },
    {
     "data": {
      "text/html": [
       "<style type=\"text/css\">\n",
       "#T_f3ab5_row0_col0, #T_f3ab5_row5_col0 {\n",
       "  background-color: #056faf;\n",
       "  color: #f1f1f1;\n",
       "}\n",
       "#T_f3ab5_row0_col1 {\n",
       "  background-color: #197db7;\n",
       "  color: #f1f1f1;\n",
       "}\n",
       "#T_f3ab5_row0_col2, #T_f3ab5_row1_col2, #T_f3ab5_row2_col2, #T_f3ab5_row3_col2, #T_f3ab5_row4_col2, #T_f3ab5_row5_col2, #T_f3ab5_row6_col2, #T_f3ab5_row7_col2 {\n",
       "  background-color: #fff7fb;\n",
       "  color: #000000;\n",
       "}\n",
       "#T_f3ab5_row0_col3 {\n",
       "  background-color: #8cb3d5;\n",
       "  color: #000000;\n",
       "}\n",
       "#T_f3ab5_row0_col4, #T_f3ab5_row1_col1, #T_f3ab5_row2_col4, #T_f3ab5_row3_col4, #T_f3ab5_row4_col4, #T_f3ab5_row5_col4, #T_f3ab5_row6_col0, #T_f3ab5_row7_col0 {\n",
       "  background-color: #023858;\n",
       "  color: #f1f1f1;\n",
       "}\n",
       "#T_f3ab5_row0_col5 {\n",
       "  background-color: #ece7f2;\n",
       "  color: #000000;\n",
       "}\n",
       "#T_f3ab5_row1_col0 {\n",
       "  background-color: #2d8abd;\n",
       "  color: #f1f1f1;\n",
       "}\n",
       "#T_f3ab5_row1_col3 {\n",
       "  background-color: #c4cbe3;\n",
       "  color: #000000;\n",
       "}\n",
       "#T_f3ab5_row1_col4 {\n",
       "  background-color: #ced0e6;\n",
       "  color: #000000;\n",
       "}\n",
       "#T_f3ab5_row1_col5 {\n",
       "  background-color: #3b92c1;\n",
       "  color: #f1f1f1;\n",
       "}\n",
       "#T_f3ab5_row2_col0 {\n",
       "  background-color: #034d79;\n",
       "  color: #f1f1f1;\n",
       "}\n",
       "#T_f3ab5_row2_col1, #T_f3ab5_row6_col5 {\n",
       "  background-color: #0569a4;\n",
       "  color: #f1f1f1;\n",
       "}\n",
       "#T_f3ab5_row2_col3 {\n",
       "  background-color: #034a74;\n",
       "  color: #f1f1f1;\n",
       "}\n",
       "#T_f3ab5_row2_col5 {\n",
       "  background-color: #d9d8ea;\n",
       "  color: #000000;\n",
       "}\n",
       "#T_f3ab5_row3_col0, #T_f3ab5_row3_col1 {\n",
       "  background-color: #3f93c2;\n",
       "  color: #f1f1f1;\n",
       "}\n",
       "#T_f3ab5_row3_col3 {\n",
       "  background-color: #a9bfdc;\n",
       "  color: #000000;\n",
       "}\n",
       "#T_f3ab5_row3_col5 {\n",
       "  background-color: #f2ecf5;\n",
       "  color: #000000;\n",
       "}\n",
       "#T_f3ab5_row4_col0 {\n",
       "  background-color: #348ebf;\n",
       "  color: #f1f1f1;\n",
       "}\n",
       "#T_f3ab5_row4_col1 {\n",
       "  background-color: #71a8ce;\n",
       "  color: #f1f1f1;\n",
       "}\n",
       "#T_f3ab5_row4_col3 {\n",
       "  background-color: #b9c6e0;\n",
       "  color: #000000;\n",
       "}\n",
       "#T_f3ab5_row4_col5, #T_f3ab5_row5_col5 {\n",
       "  background-color: #f5eef6;\n",
       "  color: #000000;\n",
       "}\n",
       "#T_f3ab5_row5_col1 {\n",
       "  background-color: #6da6cd;\n",
       "  color: #f1f1f1;\n",
       "}\n",
       "#T_f3ab5_row5_col3, #T_f3ab5_row7_col5 {\n",
       "  background-color: #69a5cc;\n",
       "  color: #f1f1f1;\n",
       "}\n",
       "#T_f3ab5_row6_col1 {\n",
       "  background-color: #04588a;\n",
       "  color: #f1f1f1;\n",
       "}\n",
       "#T_f3ab5_row6_col3 {\n",
       "  background-color: #73a9cf;\n",
       "  color: #f1f1f1;\n",
       "}\n",
       "#T_f3ab5_row6_col4 {\n",
       "  background-color: #99b8d8;\n",
       "  color: #000000;\n",
       "}\n",
       "#T_f3ab5_row7_col1 {\n",
       "  background-color: #045585;\n",
       "  color: #f1f1f1;\n",
       "}\n",
       "#T_f3ab5_row7_col3 {\n",
       "  background-color: #589ec8;\n",
       "  color: #f1f1f1;\n",
       "}\n",
       "#T_f3ab5_row7_col4 {\n",
       "  background-color: #046097;\n",
       "  color: #f1f1f1;\n",
       "}\n",
       "</style>\n",
       "<table id=\"T_f3ab5\">\n",
       "  <thead>\n",
       "    <tr>\n",
       "      <th class=\"blank level0\" >&nbsp;</th>\n",
       "      <th id=\"T_f3ab5_level0_col0\" class=\"col_heading level0 col0\" >loading_images</th>\n",
       "      <th id=\"T_f3ab5_level0_col1\" class=\"col_heading level0 col1\" >image_processing</th>\n",
       "      <th id=\"T_f3ab5_level0_col2\" class=\"col_heading level0 col2\" >text_processing</th>\n",
       "      <th id=\"T_f3ab5_level0_col3\" class=\"col_heading level0 col3\" >calc_image_latents</th>\n",
       "      <th id=\"T_f3ab5_level0_col4\" class=\"col_heading level0 col4\" >calc_text_latents</th>\n",
       "      <th id=\"T_f3ab5_level0_col5\" class=\"col_heading level0 col5\" >predictions</th>\n",
       "    </tr>\n",
       "  </thead>\n",
       "  <tbody>\n",
       "    <tr>\n",
       "      <th id=\"T_f3ab5_level0_row0\" class=\"row_heading level0 row0\" >mean</th>\n",
       "      <td id=\"T_f3ab5_row0_col0\" class=\"data row0 col0\" >0.024562</td>\n",
       "      <td id=\"T_f3ab5_row0_col1\" class=\"data row0 col1\" >0.022732</td>\n",
       "      <td id=\"T_f3ab5_row0_col2\" class=\"data row0 col2\" >0.000697</td>\n",
       "      <td id=\"T_f3ab5_row0_col3\" class=\"data row0 col3\" >0.014608</td>\n",
       "      <td id=\"T_f3ab5_row0_col4\" class=\"data row0 col4\" >0.032382</td>\n",
       "      <td id=\"T_f3ab5_row0_col5\" class=\"data row0 col5\" >0.004760</td>\n",
       "    </tr>\n",
       "    <tr>\n",
       "      <th id=\"T_f3ab5_level0_row1\" class=\"row_heading level0 row1\" >std</th>\n",
       "      <td id=\"T_f3ab5_row1_col0\" class=\"data row1 col0\" >0.011120</td>\n",
       "      <td id=\"T_f3ab5_row1_col1\" class=\"data row1 col1\" >0.016927</td>\n",
       "      <td id=\"T_f3ab5_row1_col2\" class=\"data row1 col2\" >0.000478</td>\n",
       "      <td id=\"T_f3ab5_row1_col3\" class=\"data row1 col3\" >0.005233</td>\n",
       "      <td id=\"T_f3ab5_row1_col4\" class=\"data row1 col4\" >0.004718</td>\n",
       "      <td id=\"T_f3ab5_row1_col5\" class=\"data row1 col5\" >0.010610</td>\n",
       "    </tr>\n",
       "    <tr>\n",
       "      <th id=\"T_f3ab5_level0_row2\" class=\"row_heading level0 row2\" >min</th>\n",
       "      <td id=\"T_f3ab5_row2_col0\" class=\"data row2 col0\" >0.008946</td>\n",
       "      <td id=\"T_f3ab5_row2_col1\" class=\"data row2 col1\" >0.007711</td>\n",
       "      <td id=\"T_f3ab5_row2_col2\" class=\"data row2 col2\" >0.000152</td>\n",
       "      <td id=\"T_f3ab5_row2_col3\" class=\"data row2 col3\" >0.009062</td>\n",
       "      <td id=\"T_f3ab5_row2_col4\" class=\"data row2 col4\" >0.009721</td>\n",
       "      <td id=\"T_f3ab5_row2_col5\" class=\"data row2 col5\" >0.002162</td>\n",
       "    </tr>\n",
       "    <tr>\n",
       "      <th id=\"T_f3ab5_level0_row3\" class=\"row_heading level0 row3\" >25%</th>\n",
       "      <td id=\"T_f3ab5_row3_col0\" class=\"data row3 col0\" >0.017431</td>\n",
       "      <td id=\"T_f3ab5_row3_col1\" class=\"data row3 col1\" >0.017483</td>\n",
       "      <td id=\"T_f3ab5_row3_col2\" class=\"data row3 col2\" >0.000457</td>\n",
       "      <td id=\"T_f3ab5_row3_col3\" class=\"data row3 col3\" >0.010724</td>\n",
       "      <td id=\"T_f3ab5_row3_col4\" class=\"data row3 col4\" >0.028470</td>\n",
       "      <td id=\"T_f3ab5_row3_col5\" class=\"data row3 col5\" >0.002784</td>\n",
       "    </tr>\n",
       "    <tr>\n",
       "      <th id=\"T_f3ab5_level0_row4\" class=\"row_heading level0 row4\" >50%</th>\n",
       "      <td id=\"T_f3ab5_row4_col0\" class=\"data row4 col0\" >0.022337</td>\n",
       "      <td id=\"T_f3ab5_row4_col1\" class=\"data row4 col1\" >0.018012</td>\n",
       "      <td id=\"T_f3ab5_row4_col2\" class=\"data row4 col2\" >0.000601</td>\n",
       "      <td id=\"T_f3ab5_row4_col3\" class=\"data row4 col3\" >0.011550</td>\n",
       "      <td id=\"T_f3ab5_row4_col4\" class=\"data row4 col4\" >0.035103</td>\n",
       "      <td id=\"T_f3ab5_row4_col5\" class=\"data row4 col5\" >0.002965</td>\n",
       "    </tr>\n",
       "    <tr>\n",
       "      <th id=\"T_f3ab5_level0_row5\" class=\"row_heading level0 row5\" >75%</th>\n",
       "      <td id=\"T_f3ab5_row5_col0\" class=\"data row5 col0\" >0.027184</td>\n",
       "      <td id=\"T_f3ab5_row5_col1\" class=\"data row5 col1\" >0.018846</td>\n",
       "      <td id=\"T_f3ab5_row5_col2\" class=\"data row5 col2\" >0.000820</td>\n",
       "      <td id=\"T_f3ab5_row5_col3\" class=\"data row5 col3\" >0.019129</td>\n",
       "      <td id=\"T_f3ab5_row5_col4\" class=\"data row5 col4\" >0.035967</td>\n",
       "      <td id=\"T_f3ab5_row5_col5\" class=\"data row5 col5\" >0.003221</td>\n",
       "    </tr>\n",
       "    <tr>\n",
       "      <th id=\"T_f3ab5_level0_row6\" class=\"row_heading level0 row6\" >max</th>\n",
       "      <td id=\"T_f3ab5_row6_col0\" class=\"data row6 col0\" >0.134028</td>\n",
       "      <td id=\"T_f3ab5_row6_col1\" class=\"data row6 col1\" >0.119507</td>\n",
       "      <td id=\"T_f3ab5_row6_col2\" class=\"data row6 col2\" >0.011420</td>\n",
       "      <td id=\"T_f3ab5_row6_col3\" class=\"data row6 col3\" >0.073077</td>\n",
       "      <td id=\"T_f3ab5_row6_col4\" class=\"data row6 col4\" >0.061491</td>\n",
       "      <td id=\"T_f3ab5_row6_col5\" class=\"data row6 col5\" >0.108290</td>\n",
       "    </tr>\n",
       "    <tr>\n",
       "      <th id=\"T_f3ab5_level0_row7\" class=\"row_heading level0 row7\" >sum</th>\n",
       "      <td id=\"T_f3ab5_row7_col0\" class=\"data row7 col0\" >0.245607</td>\n",
       "      <td id=\"T_f3ab5_row7_col1\" class=\"data row7 col1\" >0.221217</td>\n",
       "      <td id=\"T_f3ab5_row7_col2\" class=\"data row7 col2\" >0.014626</td>\n",
       "      <td id=\"T_f3ab5_row7_col3\" class=\"data row7 col3\" >0.143382</td>\n",
       "      <td id=\"T_f3ab5_row7_col4\" class=\"data row7 col4\" >0.207852</td>\n",
       "      <td id=\"T_f3ab5_row7_col5\" class=\"data row7 col5\" >0.134792</td>\n",
       "    </tr>\n",
       "  </tbody>\n",
       "</table>\n"
      ],
      "text/plain": [
       "<pandas.io.formats.style.Styler at 0x7867f1643c40>"
      ]
     },
     "metadata": {},
     "output_type": "display_data"
    },
    {
     "data": {
      "text/html": [
       "<div>\n",
       "<style scoped>\n",
       "    .dataframe tbody tr th:only-of-type {\n",
       "        vertical-align: middle;\n",
       "    }\n",
       "\n",
       "    .dataframe tbody tr th {\n",
       "        vertical-align: top;\n",
       "    }\n",
       "\n",
       "    .dataframe thead th {\n",
       "        text-align: right;\n",
       "    }\n",
       "</style>\n",
       "<table border=\"1\" class=\"dataframe\">\n",
       "  <thead>\n",
       "    <tr style=\"text-align: right;\">\n",
       "      <th></th>\n",
       "      <th>cols_sum</th>\n",
       "      <th>sum_batch_time</th>\n",
       "    </tr>\n",
       "  </thead>\n",
       "  <tbody>\n",
       "    <tr>\n",
       "      <th>mean</th>\n",
       "      <td>0.099742</td>\n",
       "      <td>0.102287</td>\n",
       "    </tr>\n",
       "    <tr>\n",
       "      <th>std</th>\n",
       "      <td>0.024201</td>\n",
       "      <td>0.024367</td>\n",
       "    </tr>\n",
       "    <tr>\n",
       "      <th>min</th>\n",
       "      <td>0.066765</td>\n",
       "      <td>0.068608</td>\n",
       "    </tr>\n",
       "    <tr>\n",
       "      <th>25%</th>\n",
       "      <td>0.086435</td>\n",
       "      <td>0.088774</td>\n",
       "    </tr>\n",
       "    <tr>\n",
       "      <th>50%</th>\n",
       "      <td>0.092512</td>\n",
       "      <td>0.095101</td>\n",
       "    </tr>\n",
       "    <tr>\n",
       "      <th>75%</th>\n",
       "      <td>0.100058</td>\n",
       "      <td>0.102832</td>\n",
       "    </tr>\n",
       "    <tr>\n",
       "      <th>max</th>\n",
       "      <td>0.265831</td>\n",
       "      <td>0.267928</td>\n",
       "    </tr>\n",
       "    <tr>\n",
       "      <th>sum</th>\n",
       "      <td>0.735544</td>\n",
       "      <td>0.749897</td>\n",
       "    </tr>\n",
       "  </tbody>\n",
       "</table>\n",
       "</div>"
      ],
      "text/plain": [
       "      cols_sum  sum_batch_time\n",
       "mean  0.099742        0.102287\n",
       "std   0.024201        0.024367\n",
       "min   0.066765        0.068608\n",
       "25%   0.086435        0.088774\n",
       "50%   0.092512        0.095101\n",
       "75%   0.100058        0.102832\n",
       "max   0.265831        0.267928\n",
       "sum   0.735544        0.749897"
      ]
     },
     "metadata": {},
     "output_type": "display_data"
    },
    {
     "data": {
      "image/png": "[encoded data removed]",
      "text/plain": [
       "<Figure size 640x480 with 1 Axes>"
      ]
     },
     "metadata": {},
     "output_type": "display_data"
    }
   ],
   "source": [
    "plot_log_info(log_inference)"
   ]
  },
  {
   "cell_type": "code",
   "execution_count": 17,
   "metadata": {
    "execution": {
     "iopub.execute_input": "2024-05-23T21:52:56.685099Z",
     "iopub.status.busy": "2024-05-23T21:52:56.684245Z",
     "iopub.status.idle": "2024-05-23T21:52:57.167313Z",
     "shell.execute_reply": "2024-05-23T21:52:57.166239Z",
     "shell.execute_reply.started": "2024-05-23T21:52:56.685055Z"
    }
   },
   "outputs": [
    {
     "data": {
      "image/png": "[encoded data removed]",
      "text/plain": [
       "<Figure size 640x480 with 1 Axes>"
      ]
     },
     "metadata": {},
     "output_type": "display_data"
    }
   ],
   "source": [
    "log_inference[log_inference.index % 20 == 0].plot()\n",
    "plt.title('Time measurements')\n",
    "plt.xlabel('Time (sec.)');"
   ]
  },
  {
   "cell_type": "code",
   "execution_count": null,
   "metadata": {},
   "outputs": [],
   "source": []
  }
 ],
 "metadata": {
  "kaggle": {
   "accelerator": "gpu",
   "dataSources": [
    {
     "datasetId": 4974726,
     "sourceId": 8368458,
     "sourceType": "datasetVersion"
    },
    {
     "datasetId": 4977413,
     "sourceId": 8497445,
     "sourceType": "datasetVersion"
    }
   ],
   "dockerImageVersionId": 30699,
   "isGpuEnabled": true,
   "isInternetEnabled": true,
   "language": "python",
   "sourceType": "notebook"
  },
  "kernelspec": {
   "display_name": "Python 3 (ipykernel)",
   "language": "python",
   "name": "python3"
  },
  "language_info": {
   "codemirror_mode": {
    "name": "ipython",
    "version": 3
   },
   "file_extension": ".py",
   "mimetype": "text/x-python",
   "name": "python",
   "nbconvert_exporter": "python",
   "pygments_lexer": "ipython3",
   "version": "3.11.7"
  }
 },
 "nbformat": 4,
 "nbformat_minor": 4
}
